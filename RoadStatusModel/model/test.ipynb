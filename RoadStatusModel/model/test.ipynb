{
 "cells": [
  {
   "cell_type": "code",
   "execution_count": 10,
   "metadata": {},
   "outputs": [
    {
     "name": "stdout",
     "output_type": "stream",
     "text": [
      "torch.Size([128, 40, 22])\n"
     ]
    }
   ],
   "source": [
    "import torch, sys, os\n",
    "current_dir = os.getcwd()\n",
    "sys.path.append(os.path.join(current_dir, \"model\"))\n",
    "# from module_v4 import CNNModule\n",
    "from model_v4 import CNNModel\n",
    "\n",
    "model = CNNModel(1280, 720)\n",
    "input = torch.rand((3,1280,720))\n",
    "mask = torch.zeros_like(input)\n",
    "output = model.sequential(input)\n",
    "print(output.shape)"
   ]
  }
 ],
 "metadata": {
  "kernelspec": {
   "display_name": "pyenv37",
   "language": "python",
   "name": "python3"
  },
  "language_info": {
   "codemirror_mode": {
    "name": "ipython",
    "version": 3
   },
   "file_extension": ".py",
   "mimetype": "text/x-python",
   "name": "python",
   "nbconvert_exporter": "python",
   "pygments_lexer": "ipython3",
   "version": "3.7.16"
  },
  "orig_nbformat": 4,
  "vscode": {
   "interpreter": {
    "hash": "26d425b095846052bd11d19ea5cf5b04c20d941e59affd3ef6102e9a54f40314"
   }
  }
 },
 "nbformat": 4,
 "nbformat_minor": 2
}
